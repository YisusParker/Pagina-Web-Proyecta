{
 "cells": [
  {
   "cell_type": "code",
   "execution_count": 19,
   "metadata": {},
   "outputs": [
    {
     "name": "stdout",
     "output_type": "stream",
     "text": [
      "Converted moduloie.jpg to assets/img/gallery/uninorte\\moduloie.webp\n",
      "Converted moduloie2.jpg to assets/img/gallery/uninorte\\moduloie2.webp\n",
      "Converted moduloie3.jpg to assets/img/gallery/uninorte\\moduloie3.webp\n",
      "Converted programaserv.jpg to assets/img/gallery/uninorte\\programaserv.webp\n",
      "Converted programaserv2.jpg to assets/img/gallery/uninorte\\programaserv2.webp\n",
      "Converted programaserv3.jpg to assets/img/gallery/uninorte\\programaserv3.webp\n"
     ]
    }
   ],
   "source": [
    "import os\n",
    "from PIL import Image\n",
    "\n",
    "def convert_images_to_webp_in_place(folder):\n",
    "    for filename in os.listdir(folder):\n",
    "        if filename.endswith(('.png', '.jpg', '.jpeg')):\n",
    "            img_path = os.path.join(folder, filename)\n",
    "            img = Image.open(img_path)\n",
    "            output_path = os.path.join(folder, os.path.splitext(filename)[0] + '.webp')\n",
    "            img.save(output_path, 'webp')\n",
    "            print(f\"Converted {filename} to {output_path}\")\n",
    "\n",
    "# Example usage\n",
    "folder = 'assets/img/gallery/uninorte'\n",
    "convert_images_to_webp_in_place(folder)\n"
   ]
  },
  {
   "cell_type": "code",
   "execution_count": 20,
   "metadata": {},
   "outputs": [
    {
     "name": "stdout",
     "output_type": "stream",
     "text": [
      "gallery/\n",
      "    chm_mineria/\n",
      "        chmin.webp\n",
      "        chmin2.webp\n",
      "        chmin3.webp\n",
      "        chmin4.webp\n",
      "        equiposAltamenteEfectivos.webp\n",
      "        equiposAltamenteEfectivos2.webp\n",
      "        equiposAltamenteEfectivos3.webp\n",
      "        equiposAltamenteEfectivos4.webp\n",
      "        jugadorIdeal.webp\n",
      "        jugideal.webp\n",
      "        jugideal2.webp\n",
      "        liderazgo.webp\n",
      "        liderazgo2.webp\n",
      "        outdoorworkteam.webp\n",
      "        outdoorworkteam2.webp\n",
      "    chm_pintura/\n",
      "        efectmariposa.webp\n",
      "        efectmariposa2.webp\n",
      "    consultech/\n",
      "        grupfocal.webp\n",
      "        grupfocal2.webp\n",
      "        grupfocal3.webp\n",
      "        grupfocal4.webp\n",
      "    country/\n",
      "        mod1Cuidadoe.mp4\n",
      "        mod1cuidadoe2.mp4\n",
      "        mod1Cuidadoe3.mp4\n",
      "        progrmprepension.webp\n",
      "    focus_group/\n",
      "        focusgroup.webp\n",
      "        focusgroup1.webp\n",
      "        focusgroup3.webp\n",
      "    gases_del_caribe/\n",
      "        turnonoct.webp\n",
      "        turnonoct2.webp\n",
      "        turnonoct3.webp\n",
      "        turnonoct4.webp\n",
      "        turnonoct5.webp\n",
      "        turnonoct6.webp\n",
      "        turnonoct7.webp\n",
      "        turnonoct8.webp\n",
      "    gecelca/\n",
      "        progrmprepension.webp\n",
      "        progrmprepension2.webp\n",
      "    green_air/\n",
      "        delYoalNos.webp\n",
      "        delYoalNos2.webp\n",
      "        delYoalNos3.webp\n",
      "        delYoalNos4.webp\n",
      "        delYoalNos5.webp\n",
      "        delYoalNos6.webp\n",
      "        delYoalNos7.webp\n",
      "    promigas/\n",
      "        prejubi.webp\n",
      "        prejubi2.webp\n",
      "        prejubi3.webp\n",
      "        prejubi4.webp\n",
      "        prejubi5.webp\n",
      "        prejubi6.webp\n",
      "        prejubi7.mp4\n",
      "        prejubi8.mp4\n",
      "    surtigas/\n",
      "        turnoNoct.webp\n",
      "        turnoNoct2.webp\n",
      "        turnoNoct3.webp\n",
      "        turnoNoct4.webp\n",
      "        turnoNoct5.webp\n",
      "        turnoNoct6.mp4\n",
      "        turnoNoct7.mp4\n",
      "    uninorte/\n",
      "        moduloie.webp\n",
      "        moduloie2.webp\n",
      "        moduloie3.webp\n",
      "        programaserv.webp\n",
      "        programaserv2.webp\n",
      "        programaserv3.webp\n"
     ]
    }
   ],
   "source": [
    "import os\n",
    "\n",
    "def print_directory_structure(input_folder):\n",
    "    for root, dirs, files in os.walk(input_folder):\n",
    "        level = root.replace(input_folder, '').count(os.sep)\n",
    "        indent = ' ' * 4 * level\n",
    "        print(f\"{indent}{os.path.basename(root)}/\")\n",
    "        subindent = ' ' * 4 * (level + 1)\n",
    "        for f in files:\n",
    "            print(f\"{subindent}{f}\")\n",
    "\n",
    "# Example usage\n",
    "input_folder = 'assets/img/gallery'\n",
    "print_directory_structure(input_folder)"
   ]
  }
 ],
 "metadata": {
  "kernelspec": {
   "display_name": "base",
   "language": "python",
   "name": "python3"
  },
  "language_info": {
   "codemirror_mode": {
    "name": "ipython",
    "version": 3
   },
   "file_extension": ".py",
   "mimetype": "text/x-python",
   "name": "python",
   "nbconvert_exporter": "python",
   "pygments_lexer": "ipython3",
   "version": "3.12.3"
  }
 },
 "nbformat": 4,
 "nbformat_minor": 2
}
